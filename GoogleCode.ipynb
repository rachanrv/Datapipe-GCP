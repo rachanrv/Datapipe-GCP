{
  "nbformat": 4,
  "nbformat_minor": 0,
  "metadata": {
    "colab": {
      "name": "GoogleCode.ipynb",
      "provenance": [],
      "authorship_tag": "ABX9TyPYkW9qmcE4qHnaCy78eRsQ",
      "include_colab_link": true
    },
    "kernelspec": {
      "name": "python3",
      "display_name": "Python 3"
    }
  },
  "cells": [
    {
      "cell_type": "markdown",
      "metadata": {
        "id": "view-in-github",
        "colab_type": "text"
      },
      "source": [
        "<a href=\"https://colab.research.google.com/github/rachanrv/Twitter-Mining-with-GCP/blob/master/GoogleCode.ipynb\" target=\"_parent\"><img src=\"https://colab.research.google.com/assets/colab-badge.svg\" alt=\"Open In Colab\"/></a>"
      ]
    },
    {
      "cell_type": "markdown",
      "metadata": {
        "id": "_ixlhqg674cz",
        "colab_type": "text"
      },
      "source": [
        "# https://towardsdatascience.com/current-google-search-packages-using-python-3-7-a-simple-tutorial-3606e459e0d4\n",
        "\n",
        "# https://www.quora.com/How-can-I-scrape-Googles-autocomplete-suggestions-with-python"
      ]
    },
    {
      "cell_type": "code",
      "metadata": {
        "id": "J84N-UXr8zXP",
        "colab_type": "code",
        "colab": {}
      },
      "source": [
        "word='Tesla'\n",
        "U=\"http://suggestqueries.google.com/complete/search?client=firefox&q=\"\n",
        "URL=U+word"
      ],
      "execution_count": null,
      "outputs": []
    },
    {
      "cell_type": "code",
      "metadata": {
        "id": "NB61r-vJ8gjc",
        "colab_type": "code",
        "colab": {
          "base_uri": "https://localhost:8080/",
          "height": 222
        },
        "outputId": "8603a355-1618-4139-8775-3f6f43dc1952"
      },
      "source": [
        "    import requests, json \n",
        "    import pandas as pd\n",
        "    headers = {'User-agent':'Mozilla/5.0'} \n",
        "    response = requests.get(URL, headers=headers) \n",
        "    result = json.loads(response.content.decode('utf-8')) \n",
        "    result= pd.DataFrame(result[1])\n",
        "    print(result) "
      ],
      "execution_count": null,
      "outputs": [
        {
          "output_type": "stream",
          "text": [
            "                   0\n",
            "0        tesla stock\n",
            "1              tesla\n",
            "2  tesla battery day\n",
            "3      tesla model 3\n",
            "4      tesla model y\n",
            "5        tesla truck\n",
            "6      tesla model x\n",
            "7     tesla roadster\n",
            "8      tesla model s\n",
            "9         tesla news\n"
          ],
          "name": "stdout"
        }
      ]
    }
  ]
}